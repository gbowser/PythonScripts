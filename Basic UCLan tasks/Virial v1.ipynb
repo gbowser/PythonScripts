{
 "cells": [
  {
   "cell_type": "code",
   "execution_count": 4,
   "metadata": {},
   "outputs": [
    {
     "data": {
      "text/html": [
       "<div id=\"glowscript\" class=\"glowscript\"></div>"
      ],
      "text/plain": [
       "<IPython.core.display.HTML object>"
      ]
     },
     "metadata": {},
     "output_type": "display_data"
    },
    {
     "data": {
      "application/javascript": [
       "if (typeof Jupyter !== \"undefined\") { window.__context = { glowscript_container: $(\"#glowscript\").removeAttr(\"id\")};}else{ element.textContent = ' ';}"
      ],
      "text/plain": [
       "<IPython.core.display.Javascript object>"
      ]
     },
     "metadata": {},
     "output_type": "display_data"
    },
    {
     "data": {
      "application/javascript": [
       "if (typeof Jupyter !== \"undefined\") {require.undef(\"nbextensions/vpython_libraries/glow.min\");}else{element.textContent = ' ';}"
      ],
      "text/plain": [
       "<IPython.core.display.Javascript object>"
      ]
     },
     "metadata": {},
     "output_type": "display_data"
    },
    {
     "data": {
      "application/javascript": [
       "if (typeof Jupyter !== \"undefined\") {require.undef(\"nbextensions/vpython_libraries/glowcomm\");}else{element.textContent = ' ';}"
      ],
      "text/plain": [
       "<IPython.core.display.Javascript object>"
      ]
     },
     "metadata": {},
     "output_type": "display_data"
    },
    {
     "data": {
      "application/javascript": [
       "if (typeof Jupyter !== \"undefined\") {require.undef(\"nbextensions/vpython_libraries/jquery-ui.custom.min\");}else{element.textContent = ' ';}"
      ],
      "text/plain": [
       "<IPython.core.display.Javascript object>"
      ]
     },
     "metadata": {},
     "output_type": "display_data"
    },
    {
     "data": {
      "application/javascript": [
       "if (typeof Jupyter !== \"undefined\") {require([\"nbextensions/vpython_libraries/glow.min\"], function(){console.log(\"GLOW LOADED\");});}else{element.textContent = ' ';}"
      ],
      "text/plain": [
       "<IPython.core.display.Javascript object>"
      ]
     },
     "metadata": {},
     "output_type": "display_data"
    },
    {
     "data": {
      "application/javascript": [
       "if (typeof Jupyter !== \"undefined\") {require([\"nbextensions/vpython_libraries/glowcomm\"], function(){console.log(\"GLOWCOMM LOADED\");});}else{element.textContent = ' ';}"
      ],
      "text/plain": [
       "<IPython.core.display.Javascript object>"
      ]
     },
     "metadata": {},
     "output_type": "display_data"
    },
    {
     "data": {
      "application/javascript": [
       "if (typeof Jupyter !== \"undefined\") {require([\"nbextensions/vpython_libraries/jquery-ui.custom.min\"], function(){console.log(\"JQUERY LOADED\");});}else{element.textContent = ' ';}"
      ],
      "text/plain": [
       "<IPython.core.display.Javascript object>"
      ]
     },
     "metadata": {},
     "output_type": "display_data"
    },
    {
     "ename": "KeyboardInterrupt",
     "evalue": "",
     "output_type": "error",
     "traceback": [
      "\u001b[1;31m---------------------------------------------------------------------------\u001b[0m",
      "\u001b[1;31mKeyboardInterrupt\u001b[0m                         Traceback (most recent call last)",
      "\u001b[1;32m<ipython-input-4-35a50752a8f3>\u001b[0m in \u001b[0;36m<module>\u001b[1;34m\u001b[0m\n\u001b[0;32m     66\u001b[0m     \u001b[0mplanet1\u001b[0m\u001b[1;33m.\u001b[0m\u001b[0mforce\u001b[0m \u001b[1;33m=\u001b[0m \u001b[0mgforce\u001b[0m\u001b[1;33m(\u001b[0m\u001b[0mplanet1\u001b[0m\u001b[1;33m,\u001b[0m\u001b[0mstar\u001b[0m\u001b[1;33m)\u001b[0m\u001b[1;33m+\u001b[0m\u001b[0mgforce\u001b[0m\u001b[1;33m(\u001b[0m\u001b[0mplanet1\u001b[0m\u001b[1;33m,\u001b[0m\u001b[0mplanet2\u001b[0m\u001b[1;33m)\u001b[0m\u001b[1;33m+\u001b[0m\u001b[0mgforce\u001b[0m\u001b[1;33m(\u001b[0m\u001b[0mplanet1\u001b[0m\u001b[1;33m,\u001b[0m\u001b[0mplanet3\u001b[0m\u001b[1;33m)\u001b[0m\u001b[1;33m+\u001b[0m\u001b[0mgforce\u001b[0m\u001b[1;33m(\u001b[0m\u001b[0mplanet1\u001b[0m\u001b[1;33m,\u001b[0m\u001b[0mcomet\u001b[0m\u001b[1;33m)\u001b[0m\u001b[1;33m\u001b[0m\u001b[1;33m\u001b[0m\u001b[0m\n\u001b[0;32m     67\u001b[0m     \u001b[0mplanet2\u001b[0m\u001b[1;33m.\u001b[0m\u001b[0mforce\u001b[0m \u001b[1;33m=\u001b[0m \u001b[0mgforce\u001b[0m\u001b[1;33m(\u001b[0m\u001b[0mplanet2\u001b[0m\u001b[1;33m,\u001b[0m\u001b[0mstar\u001b[0m\u001b[1;33m)\u001b[0m\u001b[1;33m+\u001b[0m\u001b[0mgforce\u001b[0m\u001b[1;33m(\u001b[0m\u001b[0mplanet2\u001b[0m\u001b[1;33m,\u001b[0m\u001b[0mplanet1\u001b[0m\u001b[1;33m)\u001b[0m\u001b[1;33m+\u001b[0m\u001b[0mgforce\u001b[0m\u001b[1;33m(\u001b[0m\u001b[0mplanet2\u001b[0m\u001b[1;33m,\u001b[0m\u001b[0mplanet3\u001b[0m\u001b[1;33m)\u001b[0m\u001b[1;33m+\u001b[0m\u001b[0mgforce\u001b[0m\u001b[1;33m(\u001b[0m\u001b[0mplanet1\u001b[0m\u001b[1;33m,\u001b[0m\u001b[0mcomet\u001b[0m\u001b[1;33m)\u001b[0m\u001b[1;33m\u001b[0m\u001b[1;33m\u001b[0m\u001b[0m\n\u001b[1;32m---> 68\u001b[1;33m     \u001b[0mplanet3\u001b[0m\u001b[1;33m.\u001b[0m\u001b[0mforce\u001b[0m \u001b[1;33m=\u001b[0m \u001b[0mgforce\u001b[0m\u001b[1;33m(\u001b[0m\u001b[0mplanet3\u001b[0m\u001b[1;33m,\u001b[0m\u001b[0mstar\u001b[0m\u001b[1;33m)\u001b[0m\u001b[1;33m+\u001b[0m\u001b[0mgforce\u001b[0m\u001b[1;33m(\u001b[0m\u001b[0mplanet3\u001b[0m\u001b[1;33m,\u001b[0m\u001b[0mplanet1\u001b[0m\u001b[1;33m)\u001b[0m\u001b[1;33m+\u001b[0m\u001b[0mgforce\u001b[0m\u001b[1;33m(\u001b[0m\u001b[0mplanet3\u001b[0m\u001b[1;33m,\u001b[0m\u001b[0mplanet2\u001b[0m\u001b[1;33m)\u001b[0m\u001b[1;33m+\u001b[0m\u001b[0mgforce\u001b[0m\u001b[1;33m(\u001b[0m\u001b[0mplanet1\u001b[0m\u001b[1;33m,\u001b[0m\u001b[0mcomet\u001b[0m\u001b[1;33m)\u001b[0m\u001b[1;33m\u001b[0m\u001b[1;33m\u001b[0m\u001b[0m\n\u001b[0m\u001b[0;32m     69\u001b[0m     \u001b[0mcomet\u001b[0m\u001b[1;33m.\u001b[0m\u001b[0mforce\u001b[0m \u001b[1;33m=\u001b[0m \u001b[0mgforce\u001b[0m\u001b[1;33m(\u001b[0m\u001b[0mcomet\u001b[0m\u001b[1;33m,\u001b[0m\u001b[0mstar\u001b[0m\u001b[1;33m)\u001b[0m\u001b[1;33m+\u001b[0m\u001b[0mgforce\u001b[0m\u001b[1;33m(\u001b[0m\u001b[0mcomet\u001b[0m\u001b[1;33m,\u001b[0m\u001b[0mplanet1\u001b[0m\u001b[1;33m)\u001b[0m\u001b[1;33m+\u001b[0m\u001b[0mgforce\u001b[0m\u001b[1;33m(\u001b[0m\u001b[0mcomet\u001b[0m\u001b[1;33m,\u001b[0m\u001b[0mplanet2\u001b[0m\u001b[1;33m)\u001b[0m\u001b[1;33m+\u001b[0m\u001b[0mgforce\u001b[0m\u001b[1;33m(\u001b[0m\u001b[0mcomet\u001b[0m\u001b[1;33m,\u001b[0m\u001b[0mplanet3\u001b[0m\u001b[1;33m)\u001b[0m\u001b[1;33m\u001b[0m\u001b[1;33m\u001b[0m\u001b[0m\n\u001b[0;32m     70\u001b[0m \u001b[1;33m\u001b[0m\u001b[0m\n",
      "\u001b[1;31mKeyboardInterrupt\u001b[0m: "
     ]
    }
   ],
   "source": [
    "from vpython import *\n",
    "graph(fast=True,xtitle=\"time\",ytitle=\"average energy\",ymin=0)\n",
    "pe_graph = gcurve(color=color.blue,label=\"average potential energy (negative)\")\n",
    "ke_graph = gcurve(color=color.red,label=\"average kinetic energy\")\n",
    "def gforce(p1,p2):\n",
    "    # Calculate the gravitational force exerted on p1 by p2.\n",
    "    G = 1 # Change to 6.67e-11 to use real-world values.\n",
    "    # Calculate distance vector between p1 and p2.\n",
    "    r_vec = p1.pos-p2.pos\n",
    "    # Calculate magnitude of distance vector.\n",
    "    r_mag = mag(r_vec)\n",
    "    # Calcualte unit vector of distance vector.\n",
    "    r_hat = r_vec/r_mag\n",
    "    # Calculate force magnitude.\n",
    "    force_mag = G*p1.mass*p2.mass/r_mag**2\n",
    "    # Calculate force vector.\n",
    "    force_vec = -force_mag*r_hat\n",
    "    \n",
    "    return force_vec\n",
    "\n",
    "def ke(p1):\n",
    "    # Calculate the kinetic energy of p1.\n",
    "    ke = 0.5*mag(p1.momentum)**2/p1.mass\n",
    "    \n",
    "    return ke\n",
    "    \n",
    "def gpe(p1,p2):\n",
    "    # Calculate the gravitational potential energy between p1 and p2.\n",
    "    G = 1 # Change to 6.67e-11 to use real-world values.\n",
    "    # Calculate distance vector between p1 and p2.\n",
    "    r_vec = p1.pos-p2.pos\n",
    "    # Calculate magnitude of distance vector.\n",
    "    r_mag = mag(r_vec)\n",
    "    # Calculate gravitational potential energy.\n",
    "    gpe = -G*p1.mass*p2.mass/r_mag\n",
    "    \n",
    "    return gpe\n",
    "    \n",
    "star = sphere( pos=vector(0,0,0), radius=0.2, color=color.yellow,\n",
    "               mass = 1000, momentum=vector(0,0,0), make_trail=True )\n",
    "\n",
    "planet1 = sphere( pos=vector(1,0,0), radius=0.05, color=color.blue,\n",
    "                  mass = 1, momentum=vector(0,30,0), make_trail=True )\n",
    "\n",
    "planet2 = sphere( pos=vector(0,3,0), radius=0.075, color=color.red,\n",
    "                  mass = 2, momentum=vector(-35,0,0), make_trail=True )\n",
    "                  \n",
    "planet3 = sphere( pos=vector(0,-4,0), radius=0.1, color=color.green,\n",
    "                  mass = 10, momentum=vector(160,0,0), make_trail=True )\n",
    "               \n",
    "comet = sphere( pos=vector(-6,6,0), radius=0.05, color=color.white,\n",
    "                mass = 0.5, momentum=vector(-1,-1,0), make_trail=True )\n",
    "                \n",
    "tail = cone( pos=comet.pos, axis=comet.pos-star.pos, \n",
    "             size=vector(1,1,1)*comet.radius, color=color.white )\n",
    "\n",
    "dt = 0.000001\n",
    "t = 0\n",
    "ke_integral = 0\n",
    "pe_integral = 0\n",
    "while (True):\n",
    "    rate(100000)\n",
    "    \n",
    "    # Calculate forces.\n",
    "    star.force = gforce(star,planet1)+gforce(star,planet2)+gforce(star,planet3)+gforce(star,comet)\n",
    "    planet1.force = gforce(planet1,star)+gforce(planet1,planet2)+gforce(planet1,planet3)+gforce(planet1,comet)\n",
    "    planet2.force = gforce(planet2,star)+gforce(planet2,planet1)+gforce(planet2,planet3)+gforce(planet1,comet)\n",
    "    planet3.force = gforce(planet3,star)+gforce(planet3,planet1)+gforce(planet3,planet2)+gforce(planet1,comet)\n",
    "    comet.force = gforce(comet,star)+gforce(comet,planet1)+gforce(comet,planet2)+gforce(comet,planet3)\n",
    "\n",
    "    # Update momenta.\n",
    "    star.momentum = star.momentum + star.force*dt\n",
    "    planet1.momentum = planet1.momentum + planet1.force*dt\n",
    "    planet2.momentum = planet2.momentum + planet2.force*dt\n",
    "    planet3.momentum = planet3.momentum + planet3.force*dt\n",
    "    comet.momentum = comet.momentum + comet.force*dt\n",
    "\n",
    "    # Update positions.\n",
    "    star.pos = star.pos + star.momentum/star.mass*dt\n",
    "    planet1.pos = planet1.pos + planet1.momentum/planet1.mass*dt\n",
    "    planet2.pos = planet2.pos + planet2.momentum/planet2.mass*dt\n",
    "    planet3.pos = planet3.pos + planet3.momentum/planet3.mass*dt\n",
    "    comet.pos = comet.pos + comet.momentum/comet.mass*dt\n",
    "    tail.pos = comet.pos+comet.radius*vector(1,1,1)\n",
    "    tail.axis = comet.pos-star.pos\n",
    "    tail.axis = tail.axis/mag(tail.axis)\n",
    "    \n",
    "    # Update energy graphs.\n",
    "    total_ke = ke(star)+ke(planet1)+ke(planet2)+ke(planet3)+ke(comet)\n",
    "    ke_integral = ke_integral + total_ke*dt\n",
    "    ke_graph.plot(pos=(t,ke_integral/(t+dt)))\n",
    "    total_pe = gpe(star,planet1)+gpe(star,planet2)+gpe(star,planet3)+gpe(star,comet)\n",
    "    total_pe = total_pe+gpe(planet1,planet2)+gpe(planet1,planet3)+gpe(planet1,comet)\n",
    "    total_pe = total_pe+gpe(planet2,planet3)+gpe(planet2,comet)+gpe(planet3,comet)\n",
    "    pe_integral = pe_integral + total_pe*dt\n",
    "    pe_graph.plot(pos=(t,-pe_integral/(t+dt)))\n",
    "    \n",
    "    t = t + dt\n"
   ]
  },
  {
   "cell_type": "code",
   "execution_count": 3,
   "metadata": {},
   "outputs": [
    {
     "ename": "SyntaxError",
     "evalue": "invalid syntax (<ipython-input-3-d26d597cc76b>, line 1)",
     "output_type": "error",
     "traceback": [
      "\u001b[1;36m  File \u001b[1;32m\"<ipython-input-3-d26d597cc76b>\"\u001b[1;36m, line \u001b[1;32m1\u001b[0m\n\u001b[1;33m    jupyter labextension install vpython\u001b[0m\n\u001b[1;37m            ^\u001b[0m\n\u001b[1;31mSyntaxError\u001b[0m\u001b[1;31m:\u001b[0m invalid syntax\n"
     ]
    }
   ],
   "source": []
  },
  {
   "cell_type": "code",
   "execution_count": null,
   "metadata": {},
   "outputs": [],
   "source": []
  }
 ],
 "metadata": {
  "kernelspec": {
   "display_name": "Python 3",
   "language": "python",
   "name": "python3"
  },
  "language_info": {
   "codemirror_mode": {
    "name": "ipython",
    "version": 3
   },
   "file_extension": ".py",
   "mimetype": "text/x-python",
   "name": "python",
   "nbconvert_exporter": "python",
   "pygments_lexer": "ipython3",
   "version": "3.8.5"
  }
 },
 "nbformat": 4,
 "nbformat_minor": 4
}
