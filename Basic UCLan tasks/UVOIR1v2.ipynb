{
 "cells": [
  {
   "cell_type": "code",
   "execution_count": 2,
   "metadata": {
    "jupyter": {
     "source_hidden": true
    }
   },
   "outputs": [],
   "source": [
    "import numpy as np\n",
    "import pandas as pd\n",
    "import matplotlib as mpl\n",
    "import matplotlib.pyplot as plt\n",
    "import openpyxl as xl\n",
    "\n",
    "from matplotlib.ticker import (MultipleLocator, AutoMinorLocator)\n",
    "\n",
    "%matplotlib inline\n",
    "\n",
    "from openpyxl import load_workbook\n"
   ]
  },
  {
   "cell_type": "code",
   "execution_count": 8,
   "metadata": {},
   "outputs": [],
   "source": [
    "import numpy as np\n",
    "import pandas as pd\n",
    "import matplotlib as mpl\n",
    "import matplotlib.pyplot as plt\n",
    "import openpyxl as xl\n",
    "\n",
    "from matplotlib.ticker import (MultipleLocator, AutoMinorLocator)\n",
    "\n",
    "%matplotlib inline\n",
    "\n",
    "\n",
    "from openpyxl import load_workbook\n",
    "\n",
    "# Load in the workbook\n",
    "# SB NOTES: I've updated the path - it's generally helpful to keep files in the same folder as your notebook so you don't need to reference the full path. also makes sharing easier.\n",
    "# for SB   path = \"H Band v3 Measurements.xlsm\"\n",
    "\n",
    "path = \"d:\\\\Dropbox\\\\Public Documents\\\\Astronomy\\\\UCLAN\\\\AA2053 Ultraviolet, Optical and Infrared Astronomy\\\\Experimental Report\\\\H Band v3 Measurements.xlsm\"\n",
    "\n",
    "wb_obj = xl.load_workbook(path)\n",
    "\n",
    "# Get the Line Fitting Novas , put in DF1\n",
    "ws1 = wb_obj['PythonGraph']\n",
    "data = ws1.values\n",
    "# Get the first line in file as a header line\n",
    "columns = next(data)[0:]\n",
    "# Create a DataFrame based on the second and subsequent lines of data\n",
    "df1 = pd.DataFrame(data, columns=columns)\n"
   ]
  },
  {
   "cell_type": "code",
   "execution_count": 9,
   "metadata": {},
   "outputs": [
    {
     "ename": "NameError",
     "evalue": "name 'scatter' is not defined",
     "output_type": "error",
     "traceback": [
      "\u001b[1;31m---------------------------------------------------------------------------\u001b[0m",
      "\u001b[1;31mNameError\u001b[0m                                 Traceback (most recent call last)",
      "\u001b[1;32m<ipython-input-9-971aa4be8233>\u001b[0m in \u001b[0;36m<module>\u001b[1;34m\u001b[0m\n\u001b[0;32m     20\u001b[0m \u001b[1;33m\u001b[0m\u001b[0m\n\u001b[0;32m     21\u001b[0m \u001b[1;31m#now fix inverted scale on x & y axis\u001b[0m\u001b[1;33m\u001b[0m\u001b[1;33m\u001b[0m\u001b[1;33m\u001b[0m\u001b[0m\n\u001b[1;32m---> 22\u001b[1;33m \u001b[0max\u001b[0m\u001b[1;33m=\u001b[0m\u001b[0mscatter\u001b[0m\u001b[1;33m.\u001b[0m\u001b[0maxes\u001b[0m\u001b[1;33m\u001b[0m\u001b[1;33m\u001b[0m\u001b[0m\n\u001b[0m\u001b[0;32m     23\u001b[0m \u001b[0max\u001b[0m\u001b[1;33m.\u001b[0m\u001b[0mset_ylim\u001b[0m\u001b[1;33m(\u001b[0m\u001b[1;33m-\u001b[0m\u001b[1;36m10.8\u001b[0m\u001b[1;33m,\u001b[0m\u001b[1;33m-\u001b[0m\u001b[1;36m12.4\u001b[0m\u001b[1;33m)\u001b[0m\u001b[1;33m\u001b[0m\u001b[1;33m\u001b[0m\u001b[0m\n\u001b[0;32m     24\u001b[0m \u001b[0max\u001b[0m\u001b[1;33m.\u001b[0m\u001b[0mset_xlim\u001b[0m\u001b[1;33m(\u001b[0m\u001b[1;33m-\u001b[0m\u001b[1;36m0.7\u001b[0m\u001b[1;33m,\u001b[0m\u001b[1;33m-\u001b[0m\u001b[1;36m0.2\u001b[0m\u001b[1;33m)\u001b[0m\u001b[1;33m\u001b[0m\u001b[1;33m\u001b[0m\u001b[0m\n",
      "\u001b[1;31mNameError\u001b[0m: name 'scatter' is not defined"
     ]
    },
    {
     "data": {
      "image/png": "[encoded data removed]",
      "text/plain": [
       "<Figure size 432x288 with 1 Axes>"
      ]
     },
     "metadata": {
      "needs_background": "light"
     },
     "output_type": "display_data"
    }
   ],
   "source": [
    "Star_Name=df1['Star_Name']\n",
    "x1=df1['H-K']\n",
    "y1=df1['Magnitude']\n",
    "yerror=df1['Error Bars']\n",
    "xerror= df1['Error Bars']\n",
    "\n",
    "fig, ax = plt.subplots()\n",
    "ax.scatter(x1, y1, marker='o', s=20.0,  edgecolors='k')\n",
    "\n",
    "#annotation\n",
    "annotationYAxisOffset = 0.02 #you could potentially do something smarter than this\n",
    "\n",
    "for i, txt in enumerate(Star_Name):\n",
    "    ax.annotate(txt, (x1[i], y1[i] + annotationYAxisOffset))\n",
    "\n",
    "plt.grid(b=True, which='major', axis='both')\n",
    "\n",
    "#add error bars\n",
    "plt.errorbar(x1,y1,xerr=xerror,yerr=yerror,linestyle=\"None\", elinewidth=1, capsize=4,color='k')\n",
    "\n",
    "#now fix inverted scale on x & y axis\n",
    "ax=scatter.axes\n",
    "ax.set_ylim(-10.8,-12.4)\n",
    "ax.set_xlim(-0.7,-0.2)\n",
    "\n",
    "# fix small tick labels & graph size\n",
    "ax.xaxis.set_minor_locator(AutoMinorLocator(5))\n",
    "ax.yaxis.set_minor_locator(AutoMinorLocator(5))\n",
    "fig = plt.gcf()\n",
    "\n",
    "fig.set_size_inches(11,8)\n",
    "\n",
    "ax.set_xlabel(\"H-K Colour Index\",fontsize=14)\n",
    "ax.set_ylabel(\"Instrumental Magnitude\",fontsize=14)\n",
    "\n",
    "ax.spines['left'].set_linewidth(2)\n",
    "ax.spines['right'].set_linewidth(2)\n",
    "ax.spines['top'].set_linewidth(2)\n",
    "ax.spines['bottom'].set_linewidth(2)\n",
    "\n",
    "fig.savefig(\"UVOIR1.pdf\");"
   ]
  },
  {
   "cell_type": "code",
   "execution_count": null,
   "metadata": {},
   "outputs": [],
   "source": []
  }
 ],
 "metadata": {
  "kernelspec": {
   "display_name": "Python 3",
   "language": "python",
   "name": "python3"
  },
  "language_info": {
   "codemirror_mode": {
    "name": "ipython",
    "version": 3
   },
   "file_extension": ".py",
   "mimetype": "text/x-python",
   "name": "python",
   "nbconvert_exporter": "python",
   "pygments_lexer": "ipython3",
   "version": "3.8.5"
  }
 },
 "nbformat": 4,
 "nbformat_minor": 4
}
