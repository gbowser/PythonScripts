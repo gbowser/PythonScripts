{
 "cells": [
  {
   "cell_type": "code",
   "execution_count": 1,
   "metadata": {},
   "outputs": [
    {
     "name": "stdout",
     "output_type": "stream",
     "text": [
      "  |    |  \n"
     ]
    }
   ],
   "source": [
    "print(\"  |    |  \")"
   ]
  },
  {
   "cell_type": "code",
   "execution_count": 11,
   "metadata": {},
   "outputs": [
    {
     "name": "stdout",
     "output_type": "stream",
     "text": [
      "   |   |\n",
      " X | O | X\n",
      "   |   |\n",
      "-----------\n",
      "   |   |\n",
      " O | X | O\n",
      "   |   |\n",
      "-----------\n",
      "   |   |\n",
      " X | O | X\n",
      "   |   |\n"
     ]
    }
   ],
   "source": [
    "board = ['#','X','O','X','O','X','O','X','O','X']\n",
    "\n",
    "def display_board(board):\n",
    "\n",
    "    print_verticals()\n",
    "    print_row(7,8,9)\n",
    "    print_verticals()\n",
    "    print_horizontals()\n",
    "    print_verticals()\n",
    "    print_row(4,5,6)\n",
    "    print_verticals()\n",
    "    print_horizontals()\n",
    "    print_verticals()\n",
    "    print_row(1,2,3)\n",
    "    print_verticals()\n",
    "    return\n",
    "\n",
    "def print_row(i,j,k):\n",
    "    print (f\" {board[i]} | {board[j]} | {board[k]}\")\n",
    "    return\n",
    "\n",
    "def print_verticals():\n",
    "    print(\"   |   |\")\n",
    "    return\n",
    "\n",
    "def print_horizontals():\n",
    "    print(\"-----------\")\n",
    "    return\n",
    "\n",
    "display_board(board)"
   ]
  },
  {
   "cell_type": "code",
   "execution_count": 18,
   "metadata": {},
   "outputs": [
    {
     "data": {
      "text/plain": [
       "<function __main__.print_horizontals()>"
      ]
     },
     "execution_count": 18,
     "metadata": {},
     "output_type": "execute_result"
    }
   ],
   "source": [
    "print_horizontals"
   ]
  },
  {
   "cell_type": "code",
   "execution_count": 5,
   "metadata": {},
   "outputs": [
    {
     "name": "stdout",
     "output_type": "stream",
     "text": [
      "myin\n"
     ]
    }
   ],
   "source": [
    "def print_hello():\n",
    "    print(\"myin\")\n",
    "    return\n",
    "print_hello()"
   ]
  },
  {
   "cell_type": "code",
   "execution_count": 2,
   "metadata": {},
   "outputs": [
    {
     "name": "stdout",
     "output_type": "stream",
     "text": [
      "hello\n"
     ]
    }
   ],
   "source": [
    "print(\"hello\")"
   ]
  },
  {
   "cell_type": "code",
   "execution_count": null,
   "metadata": {},
   "outputs": [],
   "source": []
  }
 ],
 "metadata": {
  "kernelspec": {
   "display_name": "Python 3",
   "language": "python",
   "name": "python3"
  },
  "language_info": {
   "codemirror_mode": {
    "name": "ipython",
    "version": 3
   },
   "file_extension": ".py",
   "mimetype": "text/x-python",
   "name": "python",
   "nbconvert_exporter": "python",
   "pygments_lexer": "ipython3",
   "version": "3.8.3"
  }
 },
 "nbformat": 4,
 "nbformat_minor": 4
}
