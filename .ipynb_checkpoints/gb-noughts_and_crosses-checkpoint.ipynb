{
 "cells": [
  {
   "cell_type": "markdown",
   "metadata": {},
   "source": [
    "___\n",
    "\n",
    "<a href='https://www.udemy.com/user/joseportilla/'><img src='../Pierian_Data_Logo.png'/></a>\n",
    "___\n",
    "<center><em>Content Copyright by Pierian Data</em></center>"
   ]
  },
  {
   "cell_type": "markdown",
   "metadata": {},
   "source": [
    "# Milestone Project 1: Walkthrough Steps Workbook\n",
    "\n",
    "Below is a set of steps for you to follow to try to create the Tic Tac Toe Milestone Project game!"
   ]
  },
  {
   "cell_type": "markdown",
   "metadata": {},
   "source": [
    "#### Some suggested tools before you get started:\n",
    "To take input from a user:\n",
    "\n",
    "    player1 = input(\"Please pick a marker 'X' or 'O'\")\n",
    "    \n",
    "Note that input() takes in a string. If you need an integer value, use\n",
    "\n",
    "    position = int(input('Please enter a number'))\n",
    "    \n",
    "<br>To clear the screen between moves:\n",
    "\n",
    "    from IPython.display import clear_output\n",
    "    clear_output()\n",
    "    \n",
    "Note that clear_output() will only work in jupyter. To clear the screen in other IDEs, consider:\n",
    "\n",
    "    print('\\n'*100)\n",
    "    \n",
    "This scrolls the previous board up out of view. Now on to the program!"
   ]
  },
  {
   "cell_type": "markdown",
   "metadata": {},
   "source": [
    "**Step 1: Write a function that can print out a board. Set up your board as a list, where each index 1-9 corresponds with a number on a number pad, so you get a 3 by 3 board representation.**"
   ]
  },
  {
   "cell_type": "code",
   "execution_count": 23,
   "metadata": {},
   "outputs": [],
   "source": [
    "from IPython.display import clear_output\n",
    "def display_board(board):\n",
    "\n",
    "    clear_output()\n",
    "    \n",
    "    print_verticals()\n",
    "    print_row(7,8,9)\n",
    "    print_verticals()\n",
    "    print_horizontals()\n",
    "    print_verticals()\n",
    "    print_row(4,5,6)\n",
    "    print_verticals()\n",
    "    print_horizontals()\n",
    "    print_verticals()\n",
    "    print_row(1,2,3)\n",
    "    print_verticals()\n",
    "    return\n",
    "\n",
    "def print_row(i,j,k):\n",
    "    print (f\" {board[i]} | {board[j]} | {board[k]}\")\n",
    "    return\n",
    "\n",
    "def print_verticals():\n",
    "    print(\"   |   |\")\n",
    "    return\n",
    "\n",
    "def print_horizontals():\n",
    "    print(\"-----------\")\n",
    "    return\n",
    "\n",
    "    "
   ]
  },
  {
   "cell_type": "markdown",
   "metadata": {},
   "source": [
    "**TEST Step 1:** run your function on a test version of the board list, and make adjustments as necessary"
   ]
  },
  {
   "cell_type": "code",
   "execution_count": 17,
   "metadata": {},
   "outputs": [
    {
     "name": "stdout",
     "output_type": "stream",
     "text": [
      "   |   |\n",
      " X | O | X\n",
      "   |   |\n",
      "-----------\n",
      "   |   |\n",
      " O | X | O\n",
      "   |   |\n",
      "-----------\n",
      "   |   |\n",
      " X |   | X\n",
      "   |   |\n"
     ]
    }
   ],
   "source": [
    "board = ['#','X',' ','X','O','X','O','X','O','X']\n",
    "display_board(board)"
   ]
  },
  {
   "cell_type": "markdown",
   "metadata": {},
   "source": [
    "**Step 2: Write a function that can take in a player input and assign their marker as 'X' or 'O'. Think about using *while* loops to continually ask until you get a correct answer.**"
   ]
  },
  {
   "cell_type": "code",
   "execution_count": 2,
   "metadata": {},
   "outputs": [],
   "source": [
    "def player_input():\n",
    "    acceptable_ans=(\"x\", \"X\",\"o\", \"O\")\n",
    "    resp=\"a\"\n",
    "    while resp not in acceptable_ans:\n",
    "        resp=input(\"Do you want to play X or O? \")\n",
    "        resp=resp.upper()\n",
    "        if resp not in acceptable_ans:\n",
    "            print(\"Only Y or N are valid responses\")\n",
    "    return resp    \n",
    "   \n",
    "    "
   ]
  },
  {
   "cell_type": "markdown",
   "metadata": {},
   "source": [
    "**TEST Step 2:** run the function to make sure it returns the desired output"
   ]
  },
  {
   "cell_type": "code",
   "execution_count": 69,
   "metadata": {},
   "outputs": [
    {
     "name": "stdout",
     "output_type": "stream",
     "text": [
      "Do you want to play X or O? a\n",
      "Only Y or N are valid responses\n",
      "Do you want to play X or O? o\n"
     ]
    },
    {
     "data": {
      "text/plain": [
       "'O'"
      ]
     },
     "execution_count": 69,
     "metadata": {},
     "output_type": "execute_result"
    }
   ],
   "source": [
    "player_input()"
   ]
  },
  {
   "cell_type": "markdown",
   "metadata": {},
   "source": [
    "**Step 3: Write a function that takes in the board list object, a marker ('X' or 'O'), and a desired position (number 1-9) and assigns it to the board.**"
   ]
  },
  {
   "cell_type": "code",
   "execution_count": 12,
   "metadata": {},
   "outputs": [],
   "source": [
    "def place_marker(board, marker, position):\n",
    "    board[position]=marker\n",
    "    return\n",
    "    "
   ]
  },
  {
   "cell_type": "markdown",
   "metadata": {},
   "source": [
    "**TEST Step 3:** run the place marker function using test parameters and display the modified board"
   ]
  },
  {
   "cell_type": "code",
   "execution_count": null,
   "metadata": {},
   "outputs": [],
   "source": [
    "board = ['#',' ',' ',' ',' ',' ',' ',' ',' ',' ']\n",
    "place_marker(board,\"O\",1)\n",
    "display_board(board)"
   ]
  },
  {
   "cell_type": "markdown",
   "metadata": {},
   "source": [
    "**Step 4: Write a function that takes in a board and a mark (X or O) and then checks to see if that mark has won. **"
   ]
  },
  {
   "cell_type": "code",
   "execution_count": null,
   "metadata": {},
   "outputs": [],
   "source": [
    "def win_check(board, mark):\n",
    "    win_check=False\n",
    "    \n",
    "    if win_check_small(board,mark,1,2,3): win_check=True\n",
    "    if win_check_small(board,mark,4,5,6): win_check=True\n",
    "    if win_check_small(board,mark,7,8,9): win_check=True\n",
    "    if win_check_small(board,mark,1,4,7): win_check=True\n",
    "    if win_check_small(board,mark,2,5,8): win_check=True\n",
    "    if win_check_small(board,mark,3,6,9): win_check=True\n",
    "    if win_check_small(board,mark,1,5,9): win_check=True\n",
    "    if win_check_small(board,mark,3,5,7): win_check=True\n",
    "    return win_check\n",
    "\n",
    "def win_check_small(board,mark,i,j,k):\n",
    "    if mark==board[i] and board[i]==board[j] and board[j]==board[k]:\n",
    "        win_check_small=True\n",
    "    else:\n",
    "        win_check_small=False\n",
    "    return win_check_small\n",
    "\n"
   ]
  },
  {
   "cell_type": "markdown",
   "metadata": {},
   "source": [
    "**TEST Step 4:** run the win_check function against our test_board - it should return True"
   ]
  },
  {
   "cell_type": "code",
   "execution_count": null,
   "metadata": {},
   "outputs": [],
   "source": [
    "win_check(board,'X')"
   ]
  },
  {
   "cell_type": "markdown",
   "metadata": {},
   "source": [
    "**Step 5: Write a function that uses the random module to randomly decide which player goes first. You may want to lookup random.randint() Return a string of which player went first.**"
   ]
  },
  {
   "cell_type": "code",
   "execution_count": null,
   "metadata": {},
   "outputs": [],
   "source": [
    "import random\n",
    "\n",
    "def choose_first():\n",
    "    firstplayer=(random.randint(1,2))\n",
    "    return firstplayer\n",
    "\n"
   ]
  },
  {
   "cell_type": "markdown",
   "metadata": {},
   "source": [
    "**Step 6: Write a function that returns a boolean indicating whether a space on the board is freely available.**"
   ]
  },
  {
   "cell_type": "code",
   "execution_count": null,
   "metadata": {},
   "outputs": [],
   "source": [
    "def space_check(board, position):\n",
    "    if board[position]==\" \" :\n",
    "        space_check=True\n",
    "    else:\n",
    "        space_check=False\n",
    "    return space_check\n",
    "\n",
    "# space_check(board,2)"
   ]
  },
  {
   "cell_type": "markdown",
   "metadata": {},
   "source": [
    "**Step 7: Write a function that checks if the board is full and returns a boolean value. True if full, False otherwise.**"
   ]
  },
  {
   "cell_type": "code",
   "execution_count": null,
   "metadata": {},
   "outputs": [],
   "source": [
    "\n",
    "# board = ['#','X',\" \",'X','O','X','O','X','O','X']\n",
    "\n",
    "def full_board_check(board):\n",
    "    i=1\n",
    "    full_board_check=True\n",
    "    while i<10:\n",
    "  #      print(i,board[i])\n",
    "        if board[i]==\" \":\n",
    "            full_board_check=False\n",
    "            break\n",
    "        else:\n",
    "            i+=1\n",
    "        \n",
    "    return full_board_check\n",
    "\n",
    "# full_board_check(board)"
   ]
  },
  {
   "cell_type": "markdown",
   "metadata": {},
   "source": [
    "**Step 8: Write a function that asks for a player's next position (as a number 1-9) and then uses the function from step 6 to check if it's a free position. If it is, then return the position for later use.**"
   ]
  },
  {
   "cell_type": "code",
   "execution_count": 27,
   "metadata": {},
   "outputs": [],
   "source": [
    "\n",
    "#board = ['#','X',\" \",'X','O','X','O','X','O','X']\n",
    "\n",
    "\n",
    "def player_choice(board):\n",
    "    \n",
    "    choice ='WRONG'\n",
    "    within_range = False\n",
    "    free_space=False\n",
    "    \n",
    "    while choice.isdigit() == False or within_range == False or free_space==False:\n",
    "        choice = input(\"Please enter a number (1-9): \")\n",
    "        \n",
    "        if choice.isdigit() == False:\n",
    "            print(\"Sorry that is not a digit!\")\n",
    "            \n",
    "        if choice.isdigit() == True:\n",
    "            if int(choice) in range(1,10):\n",
    "                within_range = True\n",
    "            else:\n",
    "                within_range = False\n",
    "        \n",
    "        if within_range ==True:\n",
    "                if space_check(board,int(choice))==False:\n",
    "                    print(\"That space is not available\")\n",
    "                else:\n",
    "                    free_space=True\n",
    "                \n",
    "    return int(choice)\n",
    "    \n",
    "\n",
    "#space_check(board,1)\n",
    "    \n",
    "#player_choice(board)\n",
    "\n",
    "\n",
    "def othermarker (marker):\n",
    "    if marker==\"X\" :\n",
    "        othermarker=\"O\"\n",
    "    else:\n",
    "        othermarker=\"X\"\n",
    "    return othermarker\n",
    "\n",
    "def otherplayer (player):\n",
    "    if player ==2 :\n",
    "        otherplayerno=1\n",
    "    else:\n",
    "        otherplayerno=2\n",
    "    return otherplayerno\n"
   ]
  },
  {
   "cell_type": "markdown",
   "metadata": {},
   "source": [
    "**Step 9: Write a function that asks the player if they want to play again and returns a boolean True if they do want to play again.**"
   ]
  },
  {
   "cell_type": "code",
   "execution_count": null,
   "metadata": {},
   "outputs": [],
   "source": [
    "def replay():\n",
    "   \n",
    "    acceptable_ans=(\"y\",\"n\",\"Y\",\"N\")\n",
    "    replay=\"X\"\n",
    "    while replay not in acceptable_ans:\n",
    "        replay=input(\"Do you want to play again (Y or N)? \")\n",
    "        replay=replay.upper()\n",
    "        if replay in acceptable_ans:\n",
    "            if replay==\"Y\":\n",
    "                resp=True\n",
    "            else:\n",
    "                resp=False\n",
    "            break\n",
    "        else:\n",
    "            print(\"Only Y or N are valid responses\")\n",
    "    return resp\n",
    "    \n",
    "\n"
   ]
  },
  {
   "cell_type": "markdown",
   "metadata": {
    "collapsed": true
   },
   "source": [
    "**Step 10: Here comes the hard part! Use while loops and the functions you've made to run the game!**"
   ]
  },
  {
   "cell_type": "code",
   "execution_count": null,
   "metadata": {},
   "outputs": [
    {
     "name": "stdout",
     "output_type": "stream",
     "text": [
      "   |   |\n",
      "   |   |  \n",
      "   |   |\n",
      "-----------\n",
      "   |   |\n",
      "   |   |  \n",
      "   |   |\n",
      "-----------\n",
      "   |   |\n",
      "   |   |  \n",
      "   |   |\n",
      "Player 2 goes first\n"
     ]
    }
   ],
   "source": [
    "print('Welcome to Tic Tac Toe!')\n",
    "\n",
    "play_on= True\n",
    "# Set the game up here\n",
    "\n",
    "while play_on==True:\n",
    "    board = ['#',' ',' ',' ',' ',' ',' ',' ',' ',' ']\n",
    "    display_board(board)\n",
    "    \n",
    "    player = choose_first()\n",
    "    print (f\"Player {player} goes first\")\n",
    "    first_player_key = player_input()\n",
    "    second_player_key= othermarker(first_player_key)\n",
    "\n",
    "    #check board has spaces\n",
    "    while full_board_check(board) == False:\n",
    "\n",
    "        #Player 1 Turn\n",
    "        print (\"Player 1 turn\")\n",
    "        position = player_choice(board)\n",
    "        place_marker(board, first_player_key, position)\n",
    "        display_board(board)\n",
    "\n",
    "        if win_check(board,first_player_key)==True:\n",
    "            print(f\" {first_player_key} wins!\")\n",
    "            break\n",
    "        if full_board_check==True:\n",
    "            break\n",
    "\n",
    "        # Player2's turn.\n",
    "        print (\"Player 2 turn\")\n",
    "        position=player_choice(board)\n",
    "        place_marker(board, second_player_key, position)          \n",
    "        display_board(board)\n",
    "        if win_check(board,second_player_key)==True:\n",
    "            print(f\" {second_player_key} wins!\")\n",
    "            break\n",
    "        if full_board_check==True:\n",
    "            break\n",
    "        \n",
    "    play_on=replay()\n",
    "   "
   ]
  },
  {
   "cell_type": "markdown",
   "metadata": {
    "collapsed": true
   },
   "source": [
    "### Good Job!"
   ]
  }
 ],
 "metadata": {
  "kernelspec": {
   "display_name": "Python 3",
   "language": "python",
   "name": "python3"
  },
  "language_info": {
   "codemirror_mode": {
    "name": "ipython",
    "version": 3
   },
   "file_extension": ".py",
   "mimetype": "text/x-python",
   "name": "python",
   "nbconvert_exporter": "python",
   "pygments_lexer": "ipython3",
   "version": "3.8.3"
  }
 },
 "nbformat": 4,
 "nbformat_minor": 1
}
