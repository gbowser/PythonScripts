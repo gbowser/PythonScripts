{
 "cells": [
  {
   "cell_type": "code",
   "execution_count": 1,
   "metadata": {},
   "outputs": [],
   "source": [
    "import numpy as np\n",
    "import pandas as pd\n",
    "import matplotlib as mpl\n",
    "import matplotlib.pyplot as plt\n",
    "import openpyxl as xl\n",
    "\n",
    "from matplotlib.ticker import (MultipleLocator, AutoMinorLocator)\n",
    "\n",
    "%matplotlib inline\n",
    "\n",
    "\n",
    "from openpyxl import load_workbook\n",
    "\n",
    "# Load in the workbook\n",
    "path = \"d:\\\\Dropbox\\\\Public Documents\\\\Astronomy\\\\UCLAN\\\\AA2053 Ultraviolet, Optical and Infrared Astronomy\\\\Experimental Report\\\\H Band v3 Measurements.xlsm\"\n",
    "\n",
    "wb_obj = xl.load_workbook(path)\n",
    "\n",
    "# Get the Line Fitting Novas , put in DF1\n",
    "ws1 = wb_obj['PythonGraph']\n",
    "data = ws1.values\n",
    "# Get the first line in file as a header line\n",
    "columns = next(data)[0:]\n",
    "# Create a DataFrame based on the second and subsequent lines of data\n",
    "df1 = pd.DataFrame(data, columns=columns)\n",
    "\n",
    "StarLabels=df1['Star_Name']\n",
    "x1=df1['Magnitude']\n",
    "y1=df1['H-K']\n",
    "yerror=df1['Error Bars']\n",
    "xerror= df1['Error Bars']\n",
    "\n",
    "\n"
   ]
  },
  {
   "cell_type": "code",
   "execution_count": 2,
   "metadata": {},
   "outputs": [
    {
     "name": "stdout",
     "output_type": "stream",
     "text": [
      "   Star_Name       H-K  Magnitude  Error Bars\n",
      "0         T1 -0.589964 -11.434987    0.003882\n",
      "1         T2 -0.612613 -11.668934    0.003193\n",
      "2         T3 -0.585294 -11.633551    0.003288\n",
      "3         T4 -0.351904 -11.174324    0.004843\n",
      "4         T5 -0.440962 -11.070502    0.005295\n",
      "5         T6 -0.493819 -11.407613    0.003972\n",
      "6         T7 -0.576447 -12.255108    0.001992\n",
      "7         T8 -0.470165 -11.045801    0.005408\n",
      "8         T9 -0.442929 -12.097884    0.002255\n",
      "9        T10 -0.406170 -11.485266    0.003721\n",
      "10       T11 -0.417661 -11.212190    0.004689\n",
      "11       T12 -0.449264 -11.552779    0.003517\n"
     ]
    }
   ],
   "source": [
    "print (df1)"
   ]
  },
  {
   "cell_type": "code",
   "execution_count": null,
   "metadata": {},
   "outputs": [],
   "source": []
  },
  {
   "cell_type": "code",
   "execution_count": null,
   "metadata": {},
   "outputs": [],
   "source": []
  },
  {
   "cell_type": "code",
   "execution_count": null,
   "metadata": {},
   "outputs": [],
   "source": []
  },
  {
   "cell_type": "code",
   "execution_count": null,
   "metadata": {},
   "outputs": [],
   "source": []
  },
  {
   "cell_type": "code",
   "execution_count": null,
   "metadata": {},
   "outputs": [],
   "source": []
  },
  {
   "cell_type": "code",
   "execution_count": null,
   "metadata": {},
   "outputs": [],
   "source": []
  }
 ],
 "metadata": {
  "kernelspec": {
   "display_name": "Python 3",
   "language": "python",
   "name": "python3"
  },
  "language_info": {
   "codemirror_mode": {
    "name": "ipython",
    "version": 3
   },
   "file_extension": ".py",
   "mimetype": "text/x-python",
   "name": "python",
   "nbconvert_exporter": "python",
   "pygments_lexer": "ipython3",
   "version": "3.8.5"
  }
 },
 "nbformat": 4,
 "nbformat_minor": 4
}
