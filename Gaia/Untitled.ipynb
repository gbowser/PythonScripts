{
 "cells": [
  {
   "cell_type": "code",
   "execution_count": 2,
   "id": "fe903ac2-4be3-4a0e-b80f-3724b8446d23",
   "metadata": {},
   "outputs": [],
   "source": [
    "from astropy import units as u\n",
    "from astroquery.gaia import Gaia\n",
    "import matplotlib.pyplot as plt\n"
   ]
  },
  {
   "cell_type": "code",
   "execution_count": 3,
   "id": "a2e044de-94c0-453e-bdcb-ddbfbfaaa193",
   "metadata": {},
   "outputs": [
    {
     "name": "stdout",
     "output_type": "stream",
     "text": [
      "INFO: Login to gaia TAP server [astroquery.gaia.core]\n"
     ]
    },
    {
     "name": "stdin",
     "output_type": "stream",
     "text": [
      "User:  gbowser\n",
      "Password:  ········\n"
     ]
    },
    {
     "name": "stdout",
     "output_type": "stream",
     "text": [
      "INFO: OK [astroquery.utils.tap.core]\n",
      "INFO: Login to gaia data server [astroquery.gaia.core]\n",
      "INFO: OK [astroquery.utils.tap.core]\n"
     ]
    }
   ],
   "source": [
    "Gaia.login()"
   ]
  },
  {
   "cell_type": "code",
   "execution_count": 4,
   "id": "7d993725-7bc2-4c12-b974-e51a4cafd6fc",
   "metadata": {},
   "outputs": [],
   "source": [
    "radius  = 1.0        # Degrees\n",
    "inp_ra  = 56.87125   # Degrees\n",
    "inp_dec = 24.10493   # Degrees"
   ]
  },
  {
   "cell_type": "code",
   "execution_count": 6,
   "id": "4503849e-7c30-4587-9df1-16c07a204b62",
   "metadata": {},
   "outputs": [
    {
     "name": "stdout",
     "output_type": "stream",
     "text": [
      "INFO: Query finished. [astroquery.utils.tap.core]\n",
      "Table size (rows): 4032\n"
     ]
    }
   ],
   "source": [
    "query = f\"SELECT * FROM gaiadr3.gaia_source_lite \\\n",
    "WHERE DISTANCE(POINT({inp_ra}, {inp_dec}),POINT(ra, dec)) < {radius} AND \\\n",
    "ruwe <1.4 AND parallax_over_error >10\"\n",
    "\n",
    "job     = Gaia.launch_job_async(query)\n",
    "results = job.get_results()\n",
    "print(f'Table size (rows): {len(results)}')\n"
   ]
  },
  {
   "cell_type": "code",
   "execution_count": 7,
   "id": "59ec9a46-ccf1-403c-aa1f-69312498d63c",
   "metadata": {},
   "outputs": [
    {
     "name": "stdout",
     "output_type": "stream",
     "text": [
      "    SOURCE_ID     random_index ... ag_gspphot ebpminrp_gspphot\n",
      "                               ...    mag           mag       \n",
      "----------------- ------------ ... ---------- ----------------\n",
      "69805798521250560    434721283 ...     0.6265           0.3371\n",
      "69805901600465152    364945714 ...     0.7734           0.4206\n",
      "69805901600465536    575844215 ...     0.7024            0.379\n",
      "69805935960203392   1555655204 ...     0.6278           0.3341\n",
      "69806039039416832    650605350 ...     0.6398           0.4683\n",
      "69806107758894976    993494369 ...         --               --\n",
      "69806107758895104    425930021 ...      0.609           0.3303\n",
      "69806142118633984   1421987231 ...     0.6364           0.3458\n",
      "69806176478371456   1703701541 ...     0.7095           0.3851\n",
      "              ...          ... ...        ...              ...\n",
      "66872438939447296    637998485 ...     0.7432           0.4288\n",
      "66872713817354496     11639261 ...     0.6391           0.3402\n",
      "66872954335515008   1087658838 ...     0.4849           0.2632\n",
      "66872988695252608   1355778885 ...     0.5132           0.2753\n",
      "66873053115788800      8274095 ...     0.6435           0.4089\n",
      "66873396713149824    905745866 ...     0.5865           0.3443\n",
      "66873504091336832    143284822 ...         --               --\n",
      "66873675890029952    804571029 ...     0.6593           0.3995\n",
      "66874294365308800    137937205 ...     0.3654            0.194\n",
      "66922088761382784    835883538 ...     0.5432            0.341\n",
      "Length = 4032 rows\n"
     ]
    }
   ],
   "source": [
    "print(results)"
   ]
  },
  {
   "cell_type": "code",
   "execution_count": 8,
   "id": "70573775-dd98-47bc-9df4-e6a732c0a64c",
   "metadata": {},
   "outputs": [
    {
     "ename": "TypeError",
     "evalue": "'Table' object is not callable",
     "output_type": "error",
     "traceback": [
      "\u001b[1;31m---------------------------------------------------------------------------\u001b[0m",
      "\u001b[1;31mTypeError\u001b[0m                                 Traceback (most recent call last)",
      "Cell \u001b[1;32mIn[8], line 1\u001b[0m\n\u001b[1;32m----> 1\u001b[0m \u001b[38;5;28mprint\u001b[39m(results(\u001b[38;5;241m1\u001b[39m))\n",
      "\u001b[1;31mTypeError\u001b[0m: 'Table' object is not callable"
     ]
    }
   ],
   "source": [
    "print(results(1))"
   ]
  },
  {
   "cell_type": "code",
   "execution_count": null,
   "id": "d00f3a16-0bf5-4c5a-bb9c-c5d74115bdcc",
   "metadata": {},
   "outputs": [],
   "source": []
  }
 ],
 "metadata": {
  "kernelspec": {
   "display_name": "Python 3 (ipykernel)",
   "language": "python",
   "name": "python3"
  },
  "language_info": {
   "codemirror_mode": {
    "name": "ipython",
    "version": 3
   },
   "file_extension": ".py",
   "mimetype": "text/x-python",
   "name": "python",
   "nbconvert_exporter": "python",
   "pygments_lexer": "ipython3",
   "version": "3.12.3"
  }
 },
 "nbformat": 4,
 "nbformat_minor": 5
}
